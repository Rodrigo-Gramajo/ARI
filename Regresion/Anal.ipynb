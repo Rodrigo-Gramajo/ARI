{
 "cells": [
  {
   "cell_type": "markdown",
   "metadata": {},
   "source": [
    "## Para analizar y limpiar datos del JSON Growth"
   ]
  },
  {
   "cell_type": "code",
   "execution_count": null,
   "metadata": {},
   "outputs": [
    {
     "ename": "",
     "evalue": "",
     "output_type": "error",
     "traceback": [
      "\u001b[1;31mThe kernel failed to start due to the missing module 'pygments'. Consider installing this module.\n",
      "\u001b[1;31mClick <a href='https://aka.ms/kernelFailuresMissingModule'>here</a> for more info."
     ]
    }
   ],
   "source": [
    "import json\n",
    "import pandas as pd\n",
    "import plotly.express as px"
   ]
  },
  {
   "cell_type": "code",
   "execution_count": null,
   "metadata": {},
   "outputs": [
    {
     "ename": "",
     "evalue": "",
     "output_type": "error",
     "traceback": [
      "\u001b[1;31mThe kernel failed to start due to the missing module 'pygments'. Consider installing this module.\n",
      "\u001b[1;31mClick <a href='https://aka.ms/kernelFailuresMissingModule'>here</a> for more info."
     ]
    }
   ],
   "source": [
    "import json\n",
    "\n",
    "with open('data_ciabatta.json', 'r') as f:\n",
    "    datos_ciabatta = json.load(f)\n",
    "\n",
    "with open('data_vicenta.json', 'r') as f:\n",
    "    datos_vicenta = json.load(f)\n",
    "\n",
    "# Merge the data\n",
    "datos_merged = datos_ciabatta + datos_vicenta\n",
    "\n",
    "# Save the merged data to a new JSON file\n",
    "new_filename = 'nuevo.json'\n",
    "with open(new_filename, 'w') as f:\n",
    "    json.dump(datos_merged, f)"
   ]
  },
  {
   "cell_type": "code",
   "execution_count": null,
   "metadata": {},
   "outputs": [
    {
     "ename": "",
     "evalue": "",
     "output_type": "error",
     "traceback": [
      "\u001b[1;31mThe kernel failed to start due to the missing module 'pygments'. Consider installing this module.\n",
      "\u001b[1;31mClick <a href='https://aka.ms/kernelFailuresMissingModule'>here</a> for more info."
     ]
    }
   ],
   "source": [
    "df = pd.read_json('nuevo.json')"
   ]
  },
  {
   "cell_type": "code",
   "execution_count": null,
   "metadata": {},
   "outputs": [
    {
     "ename": "",
     "evalue": "",
     "output_type": "error",
     "traceback": [
      "\u001b[1;31mThe kernel failed to start due to the missing module 'pygments'. Consider installing this module.\n",
      "\u001b[1;31mClick <a href='https://aka.ms/kernelFailuresMissingModule'>here</a> for more info."
     ]
    }
   ],
   "source": [
    "df.to_excel('GRW.xlsx', index=False)"
   ]
  },
  {
   "cell_type": "code",
   "execution_count": null,
   "metadata": {},
   "outputs": [
    {
     "ename": "",
     "evalue": "",
     "output_type": "error",
     "traceback": [
      "\u001b[1;31mThe kernel failed to start due to the missing module 'pygments'. Consider installing this module.\n",
      "\u001b[1;31mClick <a href='https://aka.ms/kernelFailuresMissingModule'>here</a> for more info."
     ]
    }
   ],
   "source": [
    "import pandas as pd\n",
    "import json\n",
    "\n",
    "# Lee el archivo XLSX y obtén los datos de la columna\n",
    "df = pd.read_excel('GRW.xlsx')\n",
    "columna = df['detail']\n",
    "\n",
    "# Analiza las cadenas JSON y crea una lista de diccionarios\n",
    "data = []\n",
    "for item in columna:\n",
    "    diccionarios = json.loads(item.replace(\"'\", '\"'))\n",
    "    for diccionario in diccionarios.values():\n",
    "        data.extend(diccionario)\n",
    "\n",
    "# Crea un DataFrame a partir de la lista de diccionarios\n",
    "df_resultado = pd.DataFrame(data)\n",
    "\n",
    "# Obtiene la información del DataFrame\n",
    "filas_totales = df_resultado.shape[0]\n",
    "columnas_totales = df_resultado.shape[1]\n",
    "\n",
    "# Imprime la información del DataFrame\n",
    "print(\"Filas totales:\", filas_totales)\n",
    "print(\"Columnas totales:\", columnas_totales)\n"
   ]
  },
  {
   "cell_type": "code",
   "execution_count": null,
   "metadata": {},
   "outputs": [
    {
     "ename": "",
     "evalue": "",
     "output_type": "error",
     "traceback": [
      "\u001b[1;31mThe kernel failed to start due to the missing module 'pygments'. Consider installing this module.\n",
      "\u001b[1;31mClick <a href='https://aka.ms/kernelFailuresMissingModule'>here</a> for more info."
     ]
    }
   ],
   "source": [
    "# Convierte la columna de fecha a formato datetime si no está en ese formato\n",
    "df_resultado['month'] = pd.to_datetime(df_resultado['month'])\n",
    "\n",
    "# Ordena el DataFrame por la columna de fecha en orden ascendente\n",
    "df_resultado = df_resultado.sort_values('month')\n",
    "\n",
    "# Obtiene la primera fecha del DataFrame\n",
    "primera_fecha = df_resultado['month'].iloc[0]\n",
    "\n",
    "print(\"La primera fecha en el conjunto de datos es:\", primera_fecha)"
   ]
  },
  {
   "cell_type": "code",
   "execution_count": null,
   "metadata": {},
   "outputs": [
    {
     "ename": "",
     "evalue": "",
     "output_type": "error",
     "traceback": [
      "\u001b[1;31mThe kernel failed to start due to the missing module 'pygments'. Consider installing this module.\n",
      "\u001b[1;31mClick <a href='https://aka.ms/kernelFailuresMissingModule'>here</a> for more info."
     ]
    }
   ],
   "source": [
    "df_resultado = df_resultado.drop(['cityName', 'country', 'brandId'], axis=1)"
   ]
  },
  {
   "cell_type": "code",
   "execution_count": null,
   "metadata": {},
   "outputs": [
    {
     "ename": "",
     "evalue": "",
     "output_type": "error",
     "traceback": [
      "\u001b[1;31mThe kernel failed to start due to the missing module 'pygments'. Consider installing this module.\n",
      "\u001b[1;31mClick <a href='https://aka.ms/kernelFailuresMissingModule'>here</a> for more info."
     ]
    }
   ],
   "source": [
    "num_filas_duplicadas = df_resultado.duplicated().sum()\n",
    "print(\"Número de filas duplicadas: \", num_filas_duplicadas)"
   ]
  },
  {
   "cell_type": "code",
   "execution_count": null,
   "metadata": {},
   "outputs": [
    {
     "ename": "",
     "evalue": "",
     "output_type": "error",
     "traceback": [
      "\u001b[1;31mThe kernel failed to start due to the missing module 'pygments'. Consider installing this module.\n",
      "\u001b[1;31mClick <a href='https://aka.ms/kernelFailuresMissingModule'>here</a> for more info."
     ]
    }
   ],
   "source": [
    "df_resultado.to_excel('OperadoresGRW.xlsx', index=False)"
   ]
  },
  {
   "cell_type": "markdown",
   "metadata": {},
   "source": [
    "## Para extraer data de Platforms de Index "
   ]
  },
  {
   "cell_type": "code",
   "execution_count": null,
   "metadata": {},
   "outputs": [
    {
     "ename": "",
     "evalue": "",
     "output_type": "error",
     "traceback": [
      "\u001b[1;31mThe kernel failed to start due to the missing module 'pygments'. Consider installing this module.\n",
      "\u001b[1;31mClick <a href='https://aka.ms/kernelFailuresMissingModule'>here</a> for more info."
     ]
    }
   ],
   "source": [
    "import awswrangler as wr\n",
    "import pandas as pd\n",
    "import boto3\n",
    "import datetime\n",
    "import json\n",
    "import numpy as np\n",
    "\n",
    "pd.set_option('display.max_columns', None)\n",
    "pd.set_option('mode.chained_assignment', None)"
   ]
  },
  {
   "cell_type": "code",
   "execution_count": null,
   "metadata": {},
   "outputs": [
    {
     "ename": "",
     "evalue": "",
     "output_type": "error",
     "traceback": [
      "\u001b[1;31mThe kernel failed to start due to the missing module 'pygments'. Consider installing this module.\n",
      "\u001b[1;31mClick <a href='https://aka.ms/kernelFailuresMissingModule'>here</a> for more info."
     ]
    }
   ],
   "source": [
    "L1_OPERATIONS_BUCKET = 'l1-operations'\n",
    "L1_OPERATIONS_PREFIX = 'platforms-tables/last-snapshot/'\n",
    "L1_OPERATIONS_STORES = 'platforms_store.csv.gz'\n",
    "L1_OPERATIONS_BRANCHES = 'platforms_branch_full.csv.gz'\n",
    "L1_OPERATIONS_BRANDS = 'platforms_brand.csv.gz'\n",
    "\n",
    "# *Sales Channels\n",
    "L1_BUCKET = 'l1-sales-channels'\n",
    "\n",
    "\n",
    "def get_stores():\n",
    "    \"\"\"\n",
    "        Read L1 data tables of operations app.\n",
    "        \n",
    "        Returns:\n",
    "            df: DataFrame\n",
    "    \"\"\"\n",
    "    s3_bucket = L1_OPERATIONS_BUCKET\n",
    "    s3_prefix = L1_OPERATIONS_PREFIX.strip(\"/\")\n",
    "    s3_stores = L1_OPERATIONS_STORES\n",
    "    path = f\"s3://{s3_bucket}/{s3_prefix}/{s3_stores}\"\n",
    "\n",
    "    df_stores = wr.s3.read_csv(path=path, dataset=False)\n",
    "    \n",
    "    df_stores = (df_stores.rename(columns={\n",
    "                                 \"start_date\": \"store_start_date\",\n",
    "                                 \"end_date\": \"store_end_date\",\n",
    "                                 \"is_integrated\": \"store_is_integrated\"}))\n",
    "    df_stores[\"app_store_id\"] = df_stores.app_store_id.astype(str)\n",
    "\n",
    "    return df_stores\n",
    "\n",
    "\n",
    "def get_branches():\n",
    "    \"\"\"\n",
    "        Read L1 data tables of operations app.\n",
    "        \n",
    "        Returns:\n",
    "            df: DataFrame\n",
    "    \"\"\"\n",
    "    s3_bucket = L1_OPERATIONS_BUCKET\n",
    "    s3_prefix = L1_OPERATIONS_PREFIX.strip(\"/\")\n",
    "    s3_branches = L1_OPERATIONS_BRANCHES\n",
    "    path = f\"s3://{s3_bucket}/{s3_prefix}/{s3_branches}\"\n",
    "    df_branches = wr.s3.read_csv(path=path, dataset=False)\n",
    "    \n",
    "    return df_branches\n",
    "    \n",
    "\n",
    "def get_brands():\n",
    "    \"\"\"\n",
    "        Read L1 data tables of operations app.\n",
    "        Returns:\n",
    "            df: DataFrame\n",
    "    \"\"\"\n",
    "    s3_bucket = L1_OPERATIONS_BUCKET\n",
    "    s3_prefix = L1_OPERATIONS_PREFIX.strip(\"/\")\n",
    "    s3_brands = L1_OPERATIONS_BRANDS\n",
    "    path = f\"s3://{s3_bucket}/{s3_prefix}/{s3_brands}\"\n",
    "\n",
    "    df_brands = wr.s3.read_csv(path=path, dataset=False)\n",
    "    df_brands = df_brands[[\"id\", \"name\"]].rename(columns={\"id\": \"brand_id\", \"name\": \"brand_name\"})\n",
    "    \n",
    "    return df_brands\n",
    "\n",
    "\n",
    "def get_platforms_data():\n",
    "    \"\"\"\n",
    "        Merge tables of operations app.\n",
    "        Returns:\n",
    "            df: DataFrame\n",
    "    \"\"\"\n",
    "    try:\n",
    "        # Brands Definition\n",
    "        df_brands = get_brands()\n",
    "        df_brands = df_brands[['brand_id', 'brand_name']]\n",
    "\n",
    "        # Branches Definition\n",
    "        df_branches = get_branches()\n",
    "        df_branches = df_branches[['id', 'name', 'address', 'is_own', 'operator_id', 'operator_name', 'lat', 'lng', 'city_country']]\n",
    "\n",
    "        # Stores Definition\n",
    "        df_stores = get_stores()\n",
    "        df_stores = df_stores[['branch_id', 'brand_id', 'app', 'app_store_id', 'is_active', 'store_start_date', 'store_end_date']]\n",
    "\n",
    "        # Merge Stores & Brands\n",
    "        df_stores_brands = pd.merge(df_stores, df_brands, how=\"left\", left_on='brand_id', right_on='brand_id')\n",
    "        # Add Branches Information\n",
    "        df = pd.merge(df_stores_brands, df_branches, how=\"left\", left_on='branch_id', right_on='id')\n",
    "\n",
    "        # Selection of Columns\n",
    "        df = df[['app_store_id', 'branch_id', 'name', 'brand_id', 'brand_name', 'app', \n",
    "                 'store_start_date', 'store_end_date', 'is_active', \n",
    "                 'is_own', 'operator_id', 'operator_name',\n",
    "                 'address', 'lat', 'lng', 'city_country']]\n",
    "        df = df.rename(columns={'name': 'branch_name', 'city_country': 'country'})\n",
    "\n",
    "        # Create MARGIN store_start_date to be use in order logic\n",
    "        for index, row in df.iterrows():\n",
    "            try:\n",
    "                # If store_id was used before...\n",
    "                idx =  df[(df['app_store_id'] == row['app_store_id']) & \n",
    "                          (df['store_start_date'] != row['store_start_date']) & \n",
    "                          (df['store_end_date'] < row['store_start_date'])].index.values.astype(int)[0]\n",
    "\n",
    "                df.loc[index, 'store_margin_start_date'] = df.at[idx,'store_end_date']\n",
    "            except:\n",
    "                pass\n",
    "            \n",
    "        df['store_start_date'] = pd.to_datetime(df['store_start_date'])\n",
    "        df['store_margin_start_date'] = pd.to_datetime(df['store_margin_start_date'])\n",
    "        df['store_margin_start_date'] = np.where(df['store_margin_start_date'].isnull(), \n",
    "                                                 df['store_start_date'] - datetime.timedelta(days=90), \n",
    "                                                 df['store_margin_start_date'])\n",
    "        \n",
    "        # Restore to default type\n",
    "        df['store_start_date'] = df['store_start_date'].dt.strftime('%Y-%m-%d')\n",
    "        df['store_margin_start_date'] = df['store_margin_start_date'].dt.strftime('%Y-%m-%d')\n",
    "        \n",
    "        # Fill Franchise Features\n",
    "        df[\"operator_name\"].fillna(\"Kitchenita\", inplace = True)\n",
    "\n",
    "        return { \"statusCode\": 200, \"df\": df }\n",
    "    except Exception as err:\n",
    "        return { \"statusCode\": 500, \"body\": f\"Failed while trying to get Platforms DATA: {err}\" }"
   ]
  },
  {
   "cell_type": "code",
   "execution_count": null,
   "metadata": {},
   "outputs": [
    {
     "ename": "",
     "evalue": "",
     "output_type": "error",
     "traceback": [
      "\u001b[1;31mThe kernel failed to start due to the missing module 'pygments'. Consider installing this module.\n",
      "\u001b[1;31mClick <a href='https://aka.ms/kernelFailuresMissingModule'>here</a> for more info."
     ]
    }
   ],
   "source": [
    "dresponse  = get_platforms_data()\n",
    "dfStores   = dresponse['df']\n",
    "\n",
    "dfStoresRP = dfStores[(dfStores['app'] == 'RP')]\n",
    "\n",
    "dfStoresRP['app_store_id'] = dfStoresRP['app_store_id'].astype(int)\n",
    "\n",
    "dfStoresRP"
   ]
  },
  {
   "cell_type": "code",
   "execution_count": null,
   "metadata": {},
   "outputs": [
    {
     "ename": "",
     "evalue": "",
     "output_type": "error",
     "traceback": [
      "\u001b[1;31mThe kernel failed to start due to the missing module 'pygments'. Consider installing this module.\n",
      "\u001b[1;31mClick <a href='https://aka.ms/kernelFailuresMissingModule'>here</a> for more info."
     ]
    }
   ],
   "source": [
    "country = \"AR\"\n",
    "city = \"BUE\"\n",
    "\n",
    "from_date = datetime.date(2023,1,15)\n",
    "to_date = datetime.date(2023,7,5)\n",
    "\n",
    "df_index = pd.DataFrame()\n",
    "prefix = \"s3://l2-food-crawlers/rappi/index\"\n",
    "for days_offset in range((to_date - from_date).days + 1):\n",
    "    date = from_date + datetime.timedelta(days=days_offset)\n",
    "    path = f\"{prefix}/country={country}/city={city}/year={date.year:04d}/month={date.month:02d}/day={date.day:02d}\"\n",
    "    \n",
    "    # Si no están todos los días...\n",
    "    try:\n",
    "        df_date_index = wr.s3.read_parquet(path, dataset=True)\n",
    "\n",
    "        df_date_index = pd.merge(df_date_index, dfStoresRP, left_on=\"store_id\", right_on='app_store_id')\n",
    "        #df_index = df_index.append(df_date_index, ignore_index=True)\n",
    "        df_index = pd.concat([df_index, df_date_index])\n",
    "    except Exception as err:\n",
    "        print(f\"No encontró {date}\")"
   ]
  },
  {
   "cell_type": "code",
   "execution_count": null,
   "metadata": {},
   "outputs": [
    {
     "ename": "",
     "evalue": "",
     "output_type": "error",
     "traceback": [
      "\u001b[1;31mThe kernel failed to start due to the missing module 'pygments'. Consider installing this module.\n",
      "\u001b[1;31mClick <a href='https://aka.ms/kernelFailuresMissingModule'>here</a> for more info."
     ]
    }
   ],
   "source": [
    "mask_lunch  = (datetime.time(8) < df_index[\"local_time\"]) &  (datetime.time(17) > df_index[\"local_time\"])\n",
    "mask_dinner = (datetime.time(19) < df_index[\"local_time\"]) &  (datetime.time(23,59,59) > df_index[\"local_time\"])\n",
    "df_index[\"slot_time\"] = None\n",
    "\n",
    "df_index.loc[mask_dinner, \"slot_time\"] = \"dinner\"\n",
    "df_index.loc[mask_lunch,  \"slot_time\"] = \"lunch\""
   ]
  },
  {
   "cell_type": "code",
   "execution_count": null,
   "metadata": {},
   "outputs": [
    {
     "ename": "",
     "evalue": "",
     "output_type": "error",
     "traceback": [
      "\u001b[1;31mThe kernel failed to start due to the missing module 'pygments'. Consider installing this module.\n",
      "\u001b[1;31mClick <a href='https://aka.ms/kernelFailuresMissingModule'>here</a> for more info."
     ]
    }
   ],
   "source": [
    "df_index"
   ]
  },
  {
   "cell_type": "code",
   "execution_count": null,
   "metadata": {},
   "outputs": [
    {
     "ename": "",
     "evalue": "",
     "output_type": "error",
     "traceback": [
      "\u001b[1;31mThe kernel failed to start due to the missing module 'pygments'. Consider installing this module.\n",
      "\u001b[1;31mClick <a href='https://aka.ms/kernelFailuresMissingModule'>here</a> for more info."
     ]
    }
   ],
   "source": [
    "df_index.to_excel('OperadoresIND.xlsx', index=False)"
   ]
  },
  {
   "cell_type": "markdown",
   "metadata": {},
   "source": [
    "## Para extraer data de Platforms de OPS "
   ]
  },
  {
   "cell_type": "code",
   "execution_count": null,
   "metadata": {},
   "outputs": [
    {
     "ename": "",
     "evalue": "",
     "output_type": "error",
     "traceback": [
      "\u001b[1;31mThe kernel failed to start due to the missing module 'pygments'. Consider installing this module.\n",
      "\u001b[1;31mClick <a href='https://aka.ms/kernelFailuresMissingModule'>here</a> for more info."
     ]
    }
   ],
   "source": [
    "# Esta es la libreria que nos permite levantar datos de AWS como dataframes de Pandas\n",
    "import awswrangler as wr\n",
    "\n",
    "import pandas as pd\n",
    "import numpy as np\n",
    "\n",
    "import datetime\n",
    "\n",
    "pd.options.display.max_columns = None\n",
    "pd.options.display.max_rows = 100"
   ]
  },
  {
   "cell_type": "code",
   "execution_count": null,
   "metadata": {},
   "outputs": [
    {
     "ename": "",
     "evalue": "",
     "output_type": "error",
     "traceback": [
      "\u001b[1;31mThe kernel failed to start due to the missing module 'pygments'. Consider installing this module.\n",
      "\u001b[1;31mClick <a href='https://aka.ms/kernelFailuresMissingModule'>here</a> for more info."
     ]
    }
   ],
   "source": [
    "# Leemos datos del operador (calculo diario)\n",
    "df_daily = wr.s3.read_parquet(\"s3://data-prod-l2-metrics/internal_use/operators/daily/snapshot/\", dataset=True)\n",
    "\n",
    "# Leemos los datos de \n",
    "df_calendar_month = wr.s3.read_csv(\"s3://data-prod-l2-metrics/internal_use/operators/calendar_month/snapshot/\", dataset=True)\n",
    "\n",
    "# Convertimos en formato fecha a la columna fecha\n",
    "df_daily[\"date\"] = pd.to_datetime(df_daily[\"date\"])\n",
    "\n",
    "df_calendar_month[\"day\"] = 1\n",
    "df_calendar_month[\"date\"] = pd.to_datetime(df_calendar_month[[\"year\", \"month\", \"day\"]])\n",
    "\n",
    "# Rellenamos una columna\n",
    "df_daily[\"app\"] = df_daily[\"app\"].fillna(\"All\")\n",
    "df_calendar_month[\"app\"] = df_calendar_month[\"app\"].fillna(\"All\")\n",
    "\n",
    "# Ordenamos los datos con las fechas (de mayor a menor), pais, marca y cocina.\n",
    "df_daily.sort_values(by=[\"date\", \"country\", \"brand_id\", \"branch_id\"], ascending=[False, True, True, True], inplace=True)\n",
    "df_calendar_month.sort_values(by=[\"date\", \"country\", \"brand_id\", \"branch_id\"], ascending=[False, True, True, True], inplace=True)\n",
    "\n",
    "# Corregimos algunas inconsistencias por cambios\n",
    "df_daily[\"is_in_warning\"] = df_daily[\"is_in_warning\"].fillna(df_daily[\"is_regular\"])\n",
    "df_daily[\"is_regular\"] = df_daily[\"is_over_performing\"].fillna(df_daily[\"is_regular\"])\n",
    "df_daily.drop(columns=[\"is_over_performing\"], inplace=True)\n",
    "\n",
    "df_daily[\"buy_back_percent\"] = df_daily[\"buy_back_percent\"].fillna(0)\n",
    "df_calendar_month[\"buy_back_percent\"] = df_calendar_month[\"buy_back_percent\"].fillna(0)"
   ]
  },
  {
   "cell_type": "code",
   "execution_count": null,
   "metadata": {},
   "outputs": [
    {
     "ename": "",
     "evalue": "",
     "output_type": "error",
     "traceback": [
      "\u001b[1;31mThe kernel failed to start due to the missing module 'pygments'. Consider installing this module.\n",
      "\u001b[1;31mClick <a href='https://aka.ms/kernelFailuresMissingModule'>here</a> for more info."
     ]
    }
   ],
   "source": [
    "df_daily"
   ]
  },
  {
   "cell_type": "code",
   "execution_count": null,
   "metadata": {},
   "outputs": [
    {
     "ename": "",
     "evalue": "",
     "output_type": "error",
     "traceback": [
      "\u001b[1;31mThe kernel failed to start due to the missing module 'pygments'. Consider installing this module.\n",
      "\u001b[1;31mClick <a href='https://aka.ms/kernelFailuresMissingModule'>here</a> for more info."
     ]
    }
   ],
   "source": [
    "df_daily.to_excel('OperadoresOPS.xlsx', index=False)"
   ]
  },
  {
   "cell_type": "markdown",
   "metadata": {},
   "source": [
    "## Juntar todos los dataset"
   ]
  },
  {
   "cell_type": "code",
   "execution_count": null,
   "metadata": {},
   "outputs": [
    {
     "ename": "",
     "evalue": "",
     "output_type": "error",
     "traceback": [
      "\u001b[1;31mThe kernel failed to start due to the missing module 'pygments'. Consider installing this module.\n",
      "\u001b[1;31mClick <a href='https://aka.ms/kernelFailuresMissingModule'>here</a> for more info."
     ]
    }
   ],
   "source": [
    "import pandas as pd\n",
    "import numpy as np"
   ]
  },
  {
   "cell_type": "code",
   "execution_count": null,
   "metadata": {},
   "outputs": [
    {
     "ename": "",
     "evalue": "",
     "output_type": "error",
     "traceback": [
      "\u001b[1;31mThe kernel failed to start due to the missing module 'pygments'. Consider installing this module.\n",
      "\u001b[1;31mClick <a href='https://aka.ms/kernelFailuresMissingModule'>here</a> for more info."
     ]
    }
   ],
   "source": [
    "# Read the Excel file\n",
    "OPS = pd.read_excel(\"OperadoresOPS.xlsx\")"
   ]
  },
  {
   "cell_type": "code",
   "execution_count": null,
   "metadata": {},
   "outputs": [
    {
     "ename": "",
     "evalue": "",
     "output_type": "error",
     "traceback": [
      "\u001b[1;31mThe kernel failed to start due to the missing module 'pygments'. Consider installing this module.\n",
      "\u001b[1;31mClick <a href='https://aka.ms/kernelFailuresMissingModule'>here</a> for more info."
     ]
    }
   ],
   "source": [
    "OPS = OPS[(OPS['branch_name'] == 'Palermo - Santa Fe') |\n",
    "          (OPS['branch_name'] == 'Martinez - Av Santa Fe') |\n",
    "          (OPS['branch_name'] == 'Almagro - Rivadavia') |\n",
    "          (OPS['branch_name'] == 'Monte Castro - Lope de Vega') |\n",
    "          (OPS['branch_name'] == 'Flores - Av Eva Perón')]\n",
    "\n",
    "OPS = OPS[OPS['brand_name'] == 'Ciabatta']\n",
    "\n",
    "OPS = OPS[OPS['app'] == 'RP']\n"
   ]
  },
  {
   "cell_type": "code",
   "execution_count": null,
   "metadata": {},
   "outputs": [
    {
     "ename": "",
     "evalue": "",
     "output_type": "error",
     "traceback": [
      "\u001b[1;31mThe kernel failed to start due to the missing module 'pygments'. Consider installing this module.\n",
      "\u001b[1;31mClick <a href='https://aka.ms/kernelFailuresMissingModule'>here</a> for more info."
     ]
    }
   ],
   "source": [
    "OPS = OPS.sort_values(by='date')"
   ]
  },
  {
   "cell_type": "code",
   "execution_count": null,
   "metadata": {},
   "outputs": [
    {
     "ename": "",
     "evalue": "",
     "output_type": "error",
     "traceback": [
      "\u001b[1;31mThe kernel failed to start due to the missing module 'pygments'. Consider installing this module.\n",
      "\u001b[1;31mClick <a href='https://aka.ms/kernelFailuresMissingModule'>here</a> for more info."
     ]
    }
   ],
   "source": [
    "OPS = OPS.dropna(axis=1, how='all')"
   ]
  },
  {
   "cell_type": "code",
   "execution_count": null,
   "metadata": {},
   "outputs": [
    {
     "ename": "",
     "evalue": "",
     "output_type": "error",
     "traceback": [
      "\u001b[1;31mThe kernel failed to start due to the missing module 'pygments'. Consider installing this module.\n",
      "\u001b[1;31mClick <a href='https://aka.ms/kernelFailuresMissingModule'>here</a> for more info."
     ]
    }
   ],
   "source": [
    "column_names = OPS.columns.tolist()\n",
    "\n",
    "# Display the column names\n",
    "print(column_names)"
   ]
  },
  {
   "cell_type": "code",
   "execution_count": null,
   "metadata": {},
   "outputs": [
    {
     "ename": "",
     "evalue": "",
     "output_type": "error",
     "traceback": [
      "\u001b[1;31mThe kernel failed to start due to the missing module 'pygments'. Consider installing this module.\n",
      "\u001b[1;31mClick <a href='https://aka.ms/kernelFailuresMissingModule'>here</a> for more info."
     ]
    }
   ],
   "source": [
    "columns_to_drop = ['country', 'branch_id', 'brand_id', 'year', 'month', 'trunk_id', 'trunk_name', 'company_id', 'app','city_id', 'city_name']\n",
    "\n",
    "# Drop the specified columns from the DataFrame\n",
    "OPS = OPS.drop(columns=columns_to_drop)"
   ]
  },
  {
   "cell_type": "code",
   "execution_count": null,
   "metadata": {},
   "outputs": [
    {
     "ename": "",
     "evalue": "",
     "output_type": "error",
     "traceback": [
      "\u001b[1;31mThe kernel failed to start due to the missing module 'pygments'. Consider installing this module.\n",
      "\u001b[1;31mClick <a href='https://aka.ms/kernelFailuresMissingModule'>here</a> for more info."
     ]
    }
   ],
   "source": [
    "OPS['date'] = pd.to_datetime(OPS['date'])\n",
    "\n",
    "OPS['month'] = OPS['date'].dt.to_period('M').dt.to_timestamp()\n",
    "\n",
    "df_median_ops = OPS.groupby(['branch_name', 'month']).median()\n",
    "\n",
    "df_median_ops = df_median_ops.reset_index()\n",
    "\n",
    "OPS = df_median_ops.sort_values(['branch_name', 'month'])\n",
    "\n",
    "OPS['month'] = OPS['month'].dt.strftime('%Y-%m-%d')\n"
   ]
  },
  {
   "cell_type": "code",
   "execution_count": null,
   "metadata": {},
   "outputs": [
    {
     "ename": "",
     "evalue": "",
     "output_type": "error",
     "traceback": [
      "\u001b[1;31mThe kernel failed to start due to the missing module 'pygments'. Consider installing this module.\n",
      "\u001b[1;31mClick <a href='https://aka.ms/kernelFailuresMissingModule'>here</a> for more info."
     ]
    }
   ],
   "source": [
    "# Read the Excel file\n",
    "IND = pd.read_excel(\"operadoresIND.xlsx\")"
   ]
  },
  {
   "cell_type": "code",
   "execution_count": null,
   "metadata": {},
   "outputs": [
    {
     "ename": "",
     "evalue": "",
     "output_type": "error",
     "traceback": [
      "\u001b[1;31mThe kernel failed to start due to the missing module 'pygments'. Consider installing this module.\n",
      "\u001b[1;31mClick <a href='https://aka.ms/kernelFailuresMissingModule'>here</a> for more info."
     ]
    }
   ],
   "source": [
    "IND = IND[(IND['branch_name'] == 'Palermo - Santa Fe') |\n",
    "          (IND['branch_name'] == 'Martinez - Av Santa Fe') |\n",
    "          (IND['branch_name'] == 'Almagro - Rivadavia') |\n",
    "          (IND['branch_name'] == 'Monte Castro - Lope de Vega') |\n",
    "          (IND['branch_name'] == 'Flores - Av Eva Perón')]\n",
    "\n",
    "IND = IND[IND['brand_name'] == 'Ciabatta']\n",
    "\n",
    "IND = IND[IND['app'] == 'RP']\n"
   ]
  },
  {
   "cell_type": "code",
   "execution_count": null,
   "metadata": {},
   "outputs": [
    {
     "ename": "",
     "evalue": "",
     "output_type": "error",
     "traceback": [
      "\u001b[1;31mThe kernel failed to start due to the missing module 'pygments'. Consider installing this module.\n",
      "\u001b[1;31mClick <a href='https://aka.ms/kernelFailuresMissingModule'>here</a> for more info."
     ]
    }
   ],
   "source": [
    "# Convert the \"local_date\" column to datetime format\n",
    "IND['local_date'] = pd.to_datetime(IND['local_date'])\n",
    "\n",
    "# Extract the year and month components from the \"local_date\" column\n",
    "IND['year'] = IND['local_date'].dt.year\n",
    "IND['month'] = IND['local_date'].dt.month\n",
    "\n",
    "# Create the \"month\" column with the desired format\n",
    "IND['month'] = pd.to_datetime(IND[['year', 'month']].assign(day=1))"
   ]
  },
  {
   "cell_type": "code",
   "execution_count": null,
   "metadata": {},
   "outputs": [
    {
     "ename": "",
     "evalue": "",
     "output_type": "error",
     "traceback": [
      "\u001b[1;31mThe kernel failed to start due to the missing module 'pygments'. Consider installing this module.\n",
      "\u001b[1;31mClick <a href='https://aka.ms/kernelFailuresMissingModule'>here</a> for more info."
     ]
    }
   ],
   "source": [
    "df_median = IND.groupby(['branch_name', 'month']).median()\n",
    "\n",
    "df_median = df_median.reset_index()\n",
    "\n",
    "IND = df_median.sort_values(['branch_name', 'month'])"
   ]
  },
  {
   "cell_type": "code",
   "execution_count": null,
   "metadata": {},
   "outputs": [
    {
     "ename": "",
     "evalue": "",
     "output_type": "error",
     "traceback": [
      "\u001b[1;31mThe kernel failed to start due to the missing module 'pygments'. Consider installing this module.\n",
      "\u001b[1;31mClick <a href='https://aka.ms/kernelFailuresMissingModule'>here</a> for more info."
     ]
    }
   ],
   "source": [
    "IND = IND[['branch_name', 'month', 'index_position', 'store_id']]\n",
    "\n",
    "IND['store_id'] = IND['store_id'].astype(int)"
   ]
  },
  {
   "cell_type": "code",
   "execution_count": null,
   "metadata": {},
   "outputs": [
    {
     "ename": "",
     "evalue": "",
     "output_type": "error",
     "traceback": [
      "\u001b[1;31mThe kernel failed to start due to the missing module 'pygments'. Consider installing this module.\n",
      "\u001b[1;31mClick <a href='https://aka.ms/kernelFailuresMissingModule'>here</a> for more info."
     ]
    }
   ],
   "source": [
    "DICT = IND[['store_id', 'branch_name']].copy()"
   ]
  },
  {
   "cell_type": "code",
   "execution_count": null,
   "metadata": {},
   "outputs": [
    {
     "ename": "",
     "evalue": "",
     "output_type": "error",
     "traceback": [
      "\u001b[1;31mThe kernel failed to start due to the missing module 'pygments'. Consider installing this module.\n",
      "\u001b[1;31mClick <a href='https://aka.ms/kernelFailuresMissingModule'>here</a> for more info."
     ]
    }
   ],
   "source": [
    "# Read the Excel file\n",
    "GRW = pd.read_excel(\"OperadoresGRW.xlsx\")"
   ]
  },
  {
   "cell_type": "code",
   "execution_count": null,
   "metadata": {},
   "outputs": [
    {
     "ename": "",
     "evalue": "",
     "output_type": "error",
     "traceback": [
      "\u001b[1;31mThe kernel failed to start due to the missing module 'pygments'. Consider installing this module.\n",
      "\u001b[1;31mClick <a href='https://aka.ms/kernelFailuresMissingModule'>here</a> for more info."
     ]
    }
   ],
   "source": [
    "GRW = GRW[(GRW['storeId'] == 212406)|\n",
    "          (GRW['storeId'] == 202549)|\n",
    "          (GRW['storeId'] == 210064)|\n",
    "          (GRW['storeId'] == 212443) |\n",
    "          (GRW['storeId'] == 207898) ]\n"
   ]
  },
  {
   "cell_type": "code",
   "execution_count": null,
   "metadata": {},
   "outputs": [
    {
     "ename": "",
     "evalue": "",
     "output_type": "error",
     "traceback": [
      "\u001b[1;31mThe kernel failed to start due to the missing module 'pygments'. Consider installing this module.\n",
      "\u001b[1;31mClick <a href='https://aka.ms/kernelFailuresMissingModule'>here</a> for more info."
     ]
    }
   ],
   "source": [
    "GRW = pd.merge(GRW, DICT, left_on='storeId', right_on='store_id', how='left')"
   ]
  },
  {
   "cell_type": "code",
   "execution_count": null,
   "metadata": {},
   "outputs": [
    {
     "ename": "",
     "evalue": "",
     "output_type": "error",
     "traceback": [
      "\u001b[1;31mThe kernel failed to start due to the missing module 'pygments'. Consider installing this module.\n",
      "\u001b[1;31mClick <a href='https://aka.ms/kernelFailuresMissingModule'>here</a> for more info."
     ]
    }
   ],
   "source": [
    "# Convert 'date' column to datetime format\n",
    "GRW['month'] = pd.to_datetime(GRW['month'])\n",
    "\n",
    "# Add a 'month' column with the first day of each month\n",
    "GRW['month'] = GRW['month'].dt.to_period('M').dt.to_timestamp()\n",
    "\n",
    "# Group by 'branch_name' and 'month' and calculate the median\n",
    "df_median_grw = GRW.groupby(['branch_name', 'month']).median()\n",
    "\n",
    "# Reset the index\n",
    "df_median_grw = df_median_grw.reset_index()\n",
    "\n",
    "# Sort by 'branch_name' and 'month'\n",
    "df_median_grw = df_median_grw.sort_values(['branch_name', 'month'])\n",
    "\n",
    "# Format 'month' column as a string in 'YYYY-MM-DD' format\n",
    "df_median_grw['month'] = df_median_grw['month'].dt.strftime('%Y-%m-%d')\n",
    "\n",
    "# Update the original DataFrame 'GRW' with the calculated values\n",
    "GRW = df_median_grw"
   ]
  }
 ],
 "metadata": {
  "kernelspec": {
   "display_name": "base",
   "language": "python",
   "name": "python3"
  },
  "language_info": {
   "codemirror_mode": {
    "name": "ipython",
    "version": 3
   },
   "file_extension": ".py",
   "mimetype": "text/x-python",
   "name": "python",
   "nbconvert_exporter": "python",
   "pygments_lexer": "ipython3",
   "version": "3.9.2"
  },
  "orig_nbformat": 4
 },
 "nbformat": 4,
 "nbformat_minor": 2
}
